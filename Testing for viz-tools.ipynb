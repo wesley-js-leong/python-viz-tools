{
 "cells": [
  {
   "cell_type": "code",
   "execution_count": 66,
   "metadata": {
    "ExecuteTime": {
     "end_time": "2020-07-25T23:16:52.098214Z",
     "start_time": "2020-07-25T23:16:51.872300Z"
    }
   },
   "outputs": [],
   "source": [
    "from matplotlib import pyplot as plt\n",
    "import numpy as np\n",
    "\n",
    "%matplotlib qt"
   ]
  },
  {
   "cell_type": "code",
   "execution_count": 118,
   "metadata": {
    "ExecuteTime": {
     "end_time": "2020-07-25T23:42:32.461394Z",
     "start_time": "2020-07-25T23:42:32.454388Z"
    },
    "scrolled": true
   },
   "outputs": [],
   "source": [
    "def gen_color_cycle():\n",
    "    \"\"\"\n",
    "    Function to generate a 1024x3 color matrix with each row = RGB values\n",
    "    \n",
    "    \"\"\"\n",
    "    ascending = np.linspace(0, 1, 256)\n",
    "    descending = np.flip(ascending)\n",
    "    steady_255 = np.ones(256)\n",
    "    steady_0 = np.zeros(256)\n",
    "    \n",
    "    base_color_cycle = np.concatenate([ascending, steady_255, descending, steady_0])\n",
    "    g = base_color_cycle\n",
    "    r = np.roll(base_color_cycle, -256)\n",
    "    b = np.roll(base_color_cycle, 256)\n",
    "    full_color_matrix = np.vstack([r, g, b]).T\n",
    "    \n",
    "    return full_color_matrix\n",
    "\n",
    "def desaturate(rgb_value, saturation):\n",
    "    \"\"\"\n",
    "    Function to scale an rgb value closer to 0 or 1, depending on saturation level;\n",
    "    \n",
    "    Args:\n",
    "    rgb_value (float): 0 to 1 scalar representing an r, g, or b value\n",
    "    saturation (float): -1 to 1 scalar representing % saturation of the resulting color\n",
    "    \n",
    "    Returns:\n",
    "    rgb_value_saturated (np.array): 0 to 1 scalar\n",
    "    \n",
    "    \"\"\"\n",
    "    if saturation > 0:\n",
    "        rgb_value_saturated = rgb_value + (1-rgb_value)*saturation \n",
    "    else:\n",
    "        rgb_value_saturated = rgb_value + (rgb_value)*saturation \n",
    "        \n",
    "    return rgb_value_saturated\n",
    "    \n",
    "desaturate_vec = np.vectorize(desaturate)\n",
    "\n",
    "def rainbowify(n, saturation, black_and_white=False):\n",
    "    \"\"\"\n",
    "    Function to produce a sequential, evenly-spaced array of colors for plotting. Starting from pure red\n",
    "    If monochrome gradients are desired (including black to white), use monochromify()\n",
    "    \n",
    "    Args:\n",
    "    n (float): number of colors to generate\n",
    "    saturation (float between 0 and 1): saturation of the resulting colors. 0 is full saturation, +1 is white, -1 is black\n",
    "    \n",
    "    Returns:\n",
    "    colors (np.array): Nx3 array of RGB values where [1, 1, 1] is white and [0, 0, 0] is black\n",
    "    \n",
    "    \"\"\"\n",
    "    full_color_matrix = gen_color_cycle()\n",
    "    \n",
    "    # Select n number of evenly-spaced colors from the color matrix\n",
    "    indices = np.linspace(0, 1023, n+1). astype(int) # n+1 because we don't want duplicate reds\n",
    "    colors = full_color_matrix[indices[:-1]]\n",
    "    \n",
    "    # Scale color values by saturation level\n",
    "    colors = desaturate_vec(colors, saturation)\n",
    "    \n",
    "    return colors\n"
   ]
  },
  {
   "cell_type": "code",
   "execution_count": 121,
   "metadata": {
    "ExecuteTime": {
     "end_time": "2020-07-25T23:42:44.299808Z",
     "start_time": "2020-07-25T23:42:44.094379Z"
    }
   },
   "outputs": [],
   "source": [
    "# Test\n",
    "n = 200\n",
    "\n",
    "colors = rainbowify(n, -0.5)\n",
    "x = range(10)\n",
    "\n",
    "ys = np.ones([n, 10])\n",
    "for row in range(len(ys)):\n",
    "    ys[row] *= row+1\n",
    "\n",
    "for ii in range(n):\n",
    "    y = ys[ii]\n",
    "#     plt.plot(x, y, color=[-1, -1, -1])\n",
    "    plt.plot(x, y, color=colors[ii])"
   ]
  }
 ],
 "metadata": {
  "kernelspec": {
   "display_name": "Python 3",
   "language": "python",
   "name": "python3"
  },
  "language_info": {
   "codemirror_mode": {
    "name": "ipython",
    "version": 3
   },
   "file_extension": ".py",
   "mimetype": "text/x-python",
   "name": "python",
   "nbconvert_exporter": "python",
   "pygments_lexer": "ipython3",
   "version": "3.7.4"
  }
 },
 "nbformat": 4,
 "nbformat_minor": 2
}
